{
 "cells": [
  {
   "cell_type": "markdown",
   "metadata": {},
   "source": [
    "# TP1 How to extract data from different formats\n",
    "\n",
    "DATA MINING \n",
    "\n",
    "M2 MSID - Big DATA\n",
    "\n",
    "@UPPA\n",
    "\n"
   ]
  },
  {
   "cell_type": "markdown",
   "metadata": {
    "slideshow": {
     "slide_type": "slide"
    }
   },
   "source": [
    "# Data extraction from classical files format\n",
    "\n",
    "Remember: Data Mining is NOT data engineering ! OK, but in practice, to be a better datascientist, you need to know how to get data from different sources. In some ideal cases, the data miner has access to nice files containing data. It is then necessary to read these files and transform into standard python objects.\n",
    "\n",
    "In some ideal cases below, the data miner has access to nice files containing data. It is then necessary to read these files and transform into standard python objects.\n",
    "\n",
    "\n",
    "----------\n",
    "Remark:\n",
    "For a nice training, see also the next IAPAU datachallenge, in 28-30 January, organized by the non-profit organization [IAPau](https://iapau.org/festival-iapau/). This challenge has 20 000€ of awards thanks to local companies and institutional grants. \n",
    "\n",
    "\n",
    "Inscriptions ici : https://live.iapau.fr/inscriptions.php (mandatory, i'm the president ☺).\n",
    "\n"
   ]
  },
  {
   "cell_type": "markdown",
   "metadata": {
    "slideshow": {
     "slide_type": "slide"
    }
   },
   "source": [
    "## Read csv with pandas\n",
    "Start with import of classical modules pandas and os path module, a very extensively used module that is handy when processing files from different places in the system."
   ]
  },
  {
   "cell_type": "code",
   "execution_count": 1,
   "metadata": {
    "slideshow": {
     "slide_type": "subslide"
    }
   },
   "outputs": [
    {
     "ename": "FileNotFoundError",
     "evalue": "[Errno 2] No such file or directory: '../data/TP'",
     "output_type": "error",
     "traceback": [
      "\u001b[0;31m---------------------------------------------------------------------------\u001b[0m",
      "\u001b[0;31mFileNotFoundError\u001b[0m                         Traceback (most recent call last)",
      "\u001b[0;32m<ipython-input-1-94e54c707152>\u001b[0m in \u001b[0;36m<module>\u001b[0;34m\u001b[0m\n\u001b[1;32m      2\u001b[0m \u001b[0;32mimport\u001b[0m \u001b[0mpandas\u001b[0m \u001b[0;32mas\u001b[0m \u001b[0mpd\u001b[0m\u001b[0;34m\u001b[0m\u001b[0;34m\u001b[0m\u001b[0m\n\u001b[1;32m      3\u001b[0m \u001b[0;34m\u001b[0m\u001b[0m\n\u001b[0;32m----> 4\u001b[0;31m \u001b[0mos\u001b[0m\u001b[0;34m.\u001b[0m\u001b[0mchdir\u001b[0m\u001b[0;34m(\u001b[0m\u001b[0;34m'../data/TP'\u001b[0m\u001b[0;34m)\u001b[0m\u001b[0;34m\u001b[0m\u001b[0;34m\u001b[0m\u001b[0m\n\u001b[0m\u001b[1;32m      5\u001b[0m \u001b[0;34m\u001b[0m\u001b[0m\n\u001b[1;32m      6\u001b[0m \u001b[0;34m\u001b[0m\u001b[0m\n",
      "\u001b[0;31mFileNotFoundError\u001b[0m: [Errno 2] No such file or directory: '../data/TP'"
     ]
    }
   ],
   "source": [
    "import os\n",
    "import pandas as pd\n",
    "\n",
    "os.chdir('../data/TP')\n",
    "\n",
    "\n",
    "my_data = pd.read_csv('res_alexnet.csv', delimiter=',')"
   ]
  },
  {
   "cell_type": "markdown",
   "metadata": {
    "slideshow": {
     "slide_type": "subslide"
    }
   },
   "source": [
    "Add some simple manipulations in order to better represent the dataset"
   ]
  },
  {
   "cell_type": "code",
   "execution_count": 2,
   "metadata": {
    "slideshow": {
     "slide_type": "subslide"
    }
   },
   "outputs": [
    {
     "data": {
      "text/html": [
       "<div>\n",
       "<style scoped>\n",
       "    .dataframe tbody tr th:only-of-type {\n",
       "        vertical-align: middle;\n",
       "    }\n",
       "\n",
       "    .dataframe tbody tr th {\n",
       "        vertical-align: top;\n",
       "    }\n",
       "\n",
       "    .dataframe thead th {\n",
       "        text-align: right;\n",
       "    }\n",
       "</style>\n",
       "<table border=\"1\" class=\"dataframe\">\n",
       "  <thead>\n",
       "    <tr style=\"text-align: right;\">\n",
       "      <th></th>\n",
       "      <th>input_size</th>\n",
       "      <th>intel_power</th>\n",
       "      <th>total_cpu_power</th>\n",
       "      <th>mem_use_abs</th>\n",
       "      <th>nvidia_draw_absolute</th>\n",
       "      <th>nvidia_estimated_attributable_power_draw</th>\n",
       "      <th>per_gpu_attributable_mem_use</th>\n",
       "      <th>sm</th>\n",
       "      <th>latency</th>\n",
       "    </tr>\n",
       "  </thead>\n",
       "  <tbody>\n",
       "    <tr>\n",
       "      <td>1</td>\n",
       "      <td>112</td>\n",
       "      <td>0.022216</td>\n",
       "      <td>0.016943</td>\n",
       "      <td>3.868113e+05</td>\n",
       "      <td>0.183718</td>\n",
       "      <td>0.183718</td>\n",
       "      <td>2.999452e+05</td>\n",
       "      <td>0.014850</td>\n",
       "      <td>0.000590</td>\n",
       "    </tr>\n",
       "    <tr>\n",
       "      <td>11</td>\n",
       "      <td>224</td>\n",
       "      <td>0.018723</td>\n",
       "      <td>0.014344</td>\n",
       "      <td>3.864822e+05</td>\n",
       "      <td>0.141377</td>\n",
       "      <td>0.141269</td>\n",
       "      <td>3.008889e+05</td>\n",
       "      <td>0.014775</td>\n",
       "      <td>0.000604</td>\n",
       "    </tr>\n",
       "    <tr>\n",
       "      <td>12</td>\n",
       "      <td>336</td>\n",
       "      <td>0.028507</td>\n",
       "      <td>0.021964</td>\n",
       "      <td>5.799657e+05</td>\n",
       "      <td>0.221136</td>\n",
       "      <td>0.221136</td>\n",
       "      <td>4.551196e+05</td>\n",
       "      <td>0.022276</td>\n",
       "      <td>0.000686</td>\n",
       "    </tr>\n",
       "    <tr>\n",
       "      <td>0</td>\n",
       "      <td>448</td>\n",
       "      <td>0.017310</td>\n",
       "      <td>0.012951</td>\n",
       "      <td>4.551731e+05</td>\n",
       "      <td>0.138022</td>\n",
       "      <td>0.138022</td>\n",
       "      <td>4.087349e+05</td>\n",
       "      <td>0.017900</td>\n",
       "      <td>0.000741</td>\n",
       "    </tr>\n",
       "    <tr>\n",
       "      <td>2</td>\n",
       "      <td>560</td>\n",
       "      <td>0.020379</td>\n",
       "      <td>0.014983</td>\n",
       "      <td>5.691571e+05</td>\n",
       "      <td>0.173242</td>\n",
       "      <td>0.173242</td>\n",
       "      <td>5.161615e+05</td>\n",
       "      <td>0.022875</td>\n",
       "      <td>0.000988</td>\n",
       "    </tr>\n",
       "    <tr>\n",
       "      <td>9</td>\n",
       "      <td>672</td>\n",
       "      <td>0.025689</td>\n",
       "      <td>0.019179</td>\n",
       "      <td>6.833698e+05</td>\n",
       "      <td>0.209848</td>\n",
       "      <td>0.209848</td>\n",
       "      <td>6.257479e+05</td>\n",
       "      <td>0.027453</td>\n",
       "      <td>0.001108</td>\n",
       "    </tr>\n",
       "    <tr>\n",
       "      <td>6</td>\n",
       "      <td>784</td>\n",
       "      <td>0.057456</td>\n",
       "      <td>0.042238</td>\n",
       "      <td>1.355741e+06</td>\n",
       "      <td>0.516257</td>\n",
       "      <td>0.516257</td>\n",
       "      <td>1.101610e+06</td>\n",
       "      <td>0.051978</td>\n",
       "      <td>0.001494</td>\n",
       "    </tr>\n",
       "    <tr>\n",
       "      <td>3</td>\n",
       "      <td>896</td>\n",
       "      <td>0.064739</td>\n",
       "      <td>0.047419</td>\n",
       "      <td>1.550056e+06</td>\n",
       "      <td>0.589544</td>\n",
       "      <td>0.589544</td>\n",
       "      <td>1.289119e+06</td>\n",
       "      <td>0.059400</td>\n",
       "      <td>0.001743</td>\n",
       "    </tr>\n",
       "    <tr>\n",
       "      <td>16</td>\n",
       "      <td>1008</td>\n",
       "      <td>0.072343</td>\n",
       "      <td>0.052802</td>\n",
       "      <td>1.745011e+06</td>\n",
       "      <td>0.664033</td>\n",
       "      <td>0.664033</td>\n",
       "      <td>1.475887e+06</td>\n",
       "      <td>0.066832</td>\n",
       "      <td>0.002044</td>\n",
       "    </tr>\n",
       "    <tr>\n",
       "      <td>15</td>\n",
       "      <td>1120</td>\n",
       "      <td>0.082119</td>\n",
       "      <td>0.060364</td>\n",
       "      <td>1.939859e+06</td>\n",
       "      <td>0.735921</td>\n",
       "      <td>0.735921</td>\n",
       "      <td>1.690042e+06</td>\n",
       "      <td>0.074250</td>\n",
       "      <td>0.002509</td>\n",
       "    </tr>\n",
       "    <tr>\n",
       "      <td>13</td>\n",
       "      <td>1232</td>\n",
       "      <td>0.089787</td>\n",
       "      <td>0.066119</td>\n",
       "      <td>2.135386e+06</td>\n",
       "      <td>0.809917</td>\n",
       "      <td>0.809917</td>\n",
       "      <td>1.924985e+06</td>\n",
       "      <td>0.081683</td>\n",
       "      <td>0.002805</td>\n",
       "    </tr>\n",
       "    <tr>\n",
       "      <td>5</td>\n",
       "      <td>1344</td>\n",
       "      <td>0.094609</td>\n",
       "      <td>0.068583</td>\n",
       "      <td>2.331041e+06</td>\n",
       "      <td>0.884696</td>\n",
       "      <td>0.884696</td>\n",
       "      <td>2.183039e+06</td>\n",
       "      <td>0.089109</td>\n",
       "      <td>0.003361</td>\n",
       "    </tr>\n",
       "    <tr>\n",
       "      <td>17</td>\n",
       "      <td>1456</td>\n",
       "      <td>0.098347</td>\n",
       "      <td>0.070159</td>\n",
       "      <td>2.526023e+06</td>\n",
       "      <td>0.945884</td>\n",
       "      <td>0.945884</td>\n",
       "      <td>2.469744e+06</td>\n",
       "      <td>0.096066</td>\n",
       "      <td>0.003804</td>\n",
       "    </tr>\n",
       "    <tr>\n",
       "      <td>10</td>\n",
       "      <td>1568</td>\n",
       "      <td>0.108078</td>\n",
       "      <td>0.077765</td>\n",
       "      <td>2.719730e+06</td>\n",
       "      <td>1.020916</td>\n",
       "      <td>1.020916</td>\n",
       "      <td>2.788985e+06</td>\n",
       "      <td>0.103955</td>\n",
       "      <td>0.004367</td>\n",
       "    </tr>\n",
       "    <tr>\n",
       "      <td>8</td>\n",
       "      <td>1680</td>\n",
       "      <td>0.119829</td>\n",
       "      <td>0.087210</td>\n",
       "      <td>2.919246e+06</td>\n",
       "      <td>1.106737</td>\n",
       "      <td>1.106737</td>\n",
       "      <td>3.144548e+06</td>\n",
       "      <td>0.111403</td>\n",
       "      <td>0.004726</td>\n",
       "    </tr>\n",
       "    <tr>\n",
       "      <td>4</td>\n",
       "      <td>1792</td>\n",
       "      <td>0.193517</td>\n",
       "      <td>0.141450</td>\n",
       "      <td>4.147400e+06</td>\n",
       "      <td>1.770991</td>\n",
       "      <td>1.770991</td>\n",
       "      <td>4.722786e+06</td>\n",
       "      <td>0.158400</td>\n",
       "      <td>0.005396</td>\n",
       "    </tr>\n",
       "    <tr>\n",
       "      <td>14</td>\n",
       "      <td>1904</td>\n",
       "      <td>0.203704</td>\n",
       "      <td>0.148334</td>\n",
       "      <td>4.408378e+06</td>\n",
       "      <td>1.881956</td>\n",
       "      <td>1.881956</td>\n",
       "      <td>5.326695e+06</td>\n",
       "      <td>0.168367</td>\n",
       "      <td>0.006074</td>\n",
       "    </tr>\n",
       "    <tr>\n",
       "      <td>7</td>\n",
       "      <td>2016</td>\n",
       "      <td>0.213874</td>\n",
       "      <td>0.155449</td>\n",
       "      <td>4.666377e+06</td>\n",
       "      <td>1.989427</td>\n",
       "      <td>1.989427</td>\n",
       "      <td>5.996986e+06</td>\n",
       "      <td>0.178218</td>\n",
       "      <td>0.006730</td>\n",
       "    </tr>\n",
       "  </tbody>\n",
       "</table>\n",
       "</div>"
      ],
      "text/plain": [
       "    input_size  intel_power  total_cpu_power   mem_use_abs  \\\n",
       "1          112     0.022216         0.016943  3.868113e+05   \n",
       "11         224     0.018723         0.014344  3.864822e+05   \n",
       "12         336     0.028507         0.021964  5.799657e+05   \n",
       "0          448     0.017310         0.012951  4.551731e+05   \n",
       "2          560     0.020379         0.014983  5.691571e+05   \n",
       "9          672     0.025689         0.019179  6.833698e+05   \n",
       "6          784     0.057456         0.042238  1.355741e+06   \n",
       "3          896     0.064739         0.047419  1.550056e+06   \n",
       "16        1008     0.072343         0.052802  1.745011e+06   \n",
       "15        1120     0.082119         0.060364  1.939859e+06   \n",
       "13        1232     0.089787         0.066119  2.135386e+06   \n",
       "5         1344     0.094609         0.068583  2.331041e+06   \n",
       "17        1456     0.098347         0.070159  2.526023e+06   \n",
       "10        1568     0.108078         0.077765  2.719730e+06   \n",
       "8         1680     0.119829         0.087210  2.919246e+06   \n",
       "4         1792     0.193517         0.141450  4.147400e+06   \n",
       "14        1904     0.203704         0.148334  4.408378e+06   \n",
       "7         2016     0.213874         0.155449  4.666377e+06   \n",
       "\n",
       "    nvidia_draw_absolute  nvidia_estimated_attributable_power_draw  \\\n",
       "1               0.183718                                  0.183718   \n",
       "11              0.141377                                  0.141269   \n",
       "12              0.221136                                  0.221136   \n",
       "0               0.138022                                  0.138022   \n",
       "2               0.173242                                  0.173242   \n",
       "9               0.209848                                  0.209848   \n",
       "6               0.516257                                  0.516257   \n",
       "3               0.589544                                  0.589544   \n",
       "16              0.664033                                  0.664033   \n",
       "15              0.735921                                  0.735921   \n",
       "13              0.809917                                  0.809917   \n",
       "5               0.884696                                  0.884696   \n",
       "17              0.945884                                  0.945884   \n",
       "10              1.020916                                  1.020916   \n",
       "8               1.106737                                  1.106737   \n",
       "4               1.770991                                  1.770991   \n",
       "14              1.881956                                  1.881956   \n",
       "7               1.989427                                  1.989427   \n",
       "\n",
       "    per_gpu_attributable_mem_use        sm   latency  \n",
       "1                   2.999452e+05  0.014850  0.000590  \n",
       "11                  3.008889e+05  0.014775  0.000604  \n",
       "12                  4.551196e+05  0.022276  0.000686  \n",
       "0                   4.087349e+05  0.017900  0.000741  \n",
       "2                   5.161615e+05  0.022875  0.000988  \n",
       "9                   6.257479e+05  0.027453  0.001108  \n",
       "6                   1.101610e+06  0.051978  0.001494  \n",
       "3                   1.289119e+06  0.059400  0.001743  \n",
       "16                  1.475887e+06  0.066832  0.002044  \n",
       "15                  1.690042e+06  0.074250  0.002509  \n",
       "13                  1.924985e+06  0.081683  0.002805  \n",
       "5                   2.183039e+06  0.089109  0.003361  \n",
       "17                  2.469744e+06  0.096066  0.003804  \n",
       "10                  2.788985e+06  0.103955  0.004367  \n",
       "8                   3.144548e+06  0.111403  0.004726  \n",
       "4                   4.722786e+06  0.158400  0.005396  \n",
       "14                  5.326695e+06  0.168367  0.006074  \n",
       "7                   5.996986e+06  0.178218  0.006730  "
      ]
     },
     "execution_count": 2,
     "metadata": {},
     "output_type": "execute_result"
    }
   ],
   "source": [
    "my_data = my_data.rename(columns={my_data.columns[0]: 'input_size'})\n",
    "my_data = my_data.sort_values(by=['input_size'])\n",
    "my_data"
   ]
  },
  {
   "cell_type": "code",
   "execution_count": 3,
   "metadata": {
    "slideshow": {
     "slide_type": "subslide"
    }
   },
   "outputs": [
    {
     "data": {
      "text/html": [
       "<div>\n",
       "<style scoped>\n",
       "    .dataframe tbody tr th:only-of-type {\n",
       "        vertical-align: middle;\n",
       "    }\n",
       "\n",
       "    .dataframe tbody tr th {\n",
       "        vertical-align: top;\n",
       "    }\n",
       "\n",
       "    .dataframe thead th {\n",
       "        text-align: right;\n",
       "    }\n",
       "</style>\n",
       "<table border=\"1\" class=\"dataframe\">\n",
       "  <thead>\n",
       "    <tr style=\"text-align: right;\">\n",
       "      <th></th>\n",
       "      <th>input_size</th>\n",
       "      <th>intel_power</th>\n",
       "      <th>total_cpu_power</th>\n",
       "      <th>mem_use_abs</th>\n",
       "      <th>nvidia_draw_absolute</th>\n",
       "      <th>nvidia_estimated_attributable_power_draw</th>\n",
       "      <th>per_gpu_attributable_mem_use</th>\n",
       "      <th>sm</th>\n",
       "      <th>latency</th>\n",
       "    </tr>\n",
       "  </thead>\n",
       "  <tbody>\n",
       "    <tr>\n",
       "      <td>count</td>\n",
       "      <td>18.000000</td>\n",
       "      <td>18.000000</td>\n",
       "      <td>18.000000</td>\n",
       "      <td>1.800000e+01</td>\n",
       "      <td>18.000000</td>\n",
       "      <td>18.000000</td>\n",
       "      <td>1.800000e+01</td>\n",
       "      <td>18.000000</td>\n",
       "      <td>18.000000</td>\n",
       "    </tr>\n",
       "    <tr>\n",
       "      <td>mean</td>\n",
       "      <td>1064.000000</td>\n",
       "      <td>0.085068</td>\n",
       "      <td>0.062125</td>\n",
       "      <td>1.972512e+06</td>\n",
       "      <td>0.776868</td>\n",
       "      <td>0.776862</td>\n",
       "      <td>2.040057e+06</td>\n",
       "      <td>0.075544</td>\n",
       "      <td>0.002765</td>\n",
       "    </tr>\n",
       "    <tr>\n",
       "      <td>std</td>\n",
       "      <td>597.916382</td>\n",
       "      <td>0.064010</td>\n",
       "      <td>0.046371</td>\n",
       "      <td>1.400651e+06</td>\n",
       "      <td>0.602221</td>\n",
       "      <td>0.602228</td>\n",
       "      <td>1.767172e+06</td>\n",
       "      <td>0.053290</td>\n",
       "      <td>0.002006</td>\n",
       "    </tr>\n",
       "    <tr>\n",
       "      <td>min</td>\n",
       "      <td>112.000000</td>\n",
       "      <td>0.017310</td>\n",
       "      <td>0.012951</td>\n",
       "      <td>3.864822e+05</td>\n",
       "      <td>0.138022</td>\n",
       "      <td>0.138022</td>\n",
       "      <td>2.999452e+05</td>\n",
       "      <td>0.014775</td>\n",
       "      <td>0.000590</td>\n",
       "    </tr>\n",
       "    <tr>\n",
       "      <td>25%</td>\n",
       "      <td>588.000000</td>\n",
       "      <td>0.026393</td>\n",
       "      <td>0.019875</td>\n",
       "      <td>6.058167e+05</td>\n",
       "      <td>0.212670</td>\n",
       "      <td>0.212670</td>\n",
       "      <td>5.435581e+05</td>\n",
       "      <td>0.024019</td>\n",
       "      <td>0.001018</td>\n",
       "    </tr>\n",
       "    <tr>\n",
       "      <td>50%</td>\n",
       "      <td>1064.000000</td>\n",
       "      <td>0.077231</td>\n",
       "      <td>0.056583</td>\n",
       "      <td>1.842435e+06</td>\n",
       "      <td>0.699977</td>\n",
       "      <td>0.699977</td>\n",
       "      <td>1.582965e+06</td>\n",
       "      <td>0.070541</td>\n",
       "      <td>0.002276</td>\n",
       "    </tr>\n",
       "    <tr>\n",
       "      <td>75%</td>\n",
       "      <td>1540.000000</td>\n",
       "      <td>0.105645</td>\n",
       "      <td>0.075864</td>\n",
       "      <td>2.671303e+06</td>\n",
       "      <td>1.002158</td>\n",
       "      <td>1.002158</td>\n",
       "      <td>2.709175e+06</td>\n",
       "      <td>0.101983</td>\n",
       "      <td>0.004226</td>\n",
       "    </tr>\n",
       "    <tr>\n",
       "      <td>max</td>\n",
       "      <td>2016.000000</td>\n",
       "      <td>0.213874</td>\n",
       "      <td>0.155449</td>\n",
       "      <td>4.666377e+06</td>\n",
       "      <td>1.989427</td>\n",
       "      <td>1.989427</td>\n",
       "      <td>5.996986e+06</td>\n",
       "      <td>0.178218</td>\n",
       "      <td>0.006730</td>\n",
       "    </tr>\n",
       "  </tbody>\n",
       "</table>\n",
       "</div>"
      ],
      "text/plain": [
       "        input_size  intel_power  total_cpu_power   mem_use_abs  \\\n",
       "count    18.000000    18.000000        18.000000  1.800000e+01   \n",
       "mean   1064.000000     0.085068         0.062125  1.972512e+06   \n",
       "std     597.916382     0.064010         0.046371  1.400651e+06   \n",
       "min     112.000000     0.017310         0.012951  3.864822e+05   \n",
       "25%     588.000000     0.026393         0.019875  6.058167e+05   \n",
       "50%    1064.000000     0.077231         0.056583  1.842435e+06   \n",
       "75%    1540.000000     0.105645         0.075864  2.671303e+06   \n",
       "max    2016.000000     0.213874         0.155449  4.666377e+06   \n",
       "\n",
       "       nvidia_draw_absolute  nvidia_estimated_attributable_power_draw  \\\n",
       "count             18.000000                                 18.000000   \n",
       "mean               0.776868                                  0.776862   \n",
       "std                0.602221                                  0.602228   \n",
       "min                0.138022                                  0.138022   \n",
       "25%                0.212670                                  0.212670   \n",
       "50%                0.699977                                  0.699977   \n",
       "75%                1.002158                                  1.002158   \n",
       "max                1.989427                                  1.989427   \n",
       "\n",
       "       per_gpu_attributable_mem_use         sm    latency  \n",
       "count                  1.800000e+01  18.000000  18.000000  \n",
       "mean                   2.040057e+06   0.075544   0.002765  \n",
       "std                    1.767172e+06   0.053290   0.002006  \n",
       "min                    2.999452e+05   0.014775   0.000590  \n",
       "25%                    5.435581e+05   0.024019   0.001018  \n",
       "50%                    1.582965e+06   0.070541   0.002276  \n",
       "75%                    2.709175e+06   0.101983   0.004226  \n",
       "max                    5.996986e+06   0.178218   0.006730  "
      ]
     },
     "execution_count": 3,
     "metadata": {},
     "output_type": "execute_result"
    }
   ],
   "source": [
    "my_data.describe()"
   ]
  },
  {
   "cell_type": "markdown",
   "metadata": {
    "slideshow": {
     "slide_type": "slide"
    }
   },
   "source": [
    "### Simple pre-processing analyses"
   ]
  },
  {
   "cell_type": "code",
   "execution_count": 7,
   "metadata": {
    "slideshow": {
     "slide_type": "subslide"
    }
   },
   "outputs": [],
   "source": [
    "import seaborn as sns\n",
    "import matplotlib.pyplot as plt"
   ]
  },
  {
   "cell_type": "code",
   "execution_count": 9,
   "metadata": {
    "slideshow": {
     "slide_type": "subslide"
    }
   },
   "outputs": [
    {
     "data": {
      "text/plain": [
       "(9.0, 0.0)"
      ]
     },
     "execution_count": 9,
     "metadata": {},
     "output_type": "execute_result"
    },
    {
     "data": {
      "image/png": "[encoded data removed]",
      "text/plain": [
       "<Figure size 432x288 with 2 Axes>"
      ]
     },
     "metadata": {
      "needs_background": "light"
     },
     "output_type": "display_data"
    }
   ],
   "source": [
    "df_corr = my_data.corr(method = 'spearman')\n",
    "\n",
    "ax = sns.heatmap(df_corr, annot=True) #notation: \"annot\" not \"annote\"\n",
    "bottom, top = ax.get_ylim()\n",
    "ax.set_ylim(bottom + 0.5, top - 0.5)\n",
    "# Google: problem with heatmap seaborn firt line cutted\n"
   ]
  },
  {
   "cell_type": "code",
   "execution_count": 10,
   "metadata": {
    "slideshow": {
     "slide_type": "subslide"
    }
   },
   "outputs": [
    {
     "data": {
      "text/plain": [
       "<matplotlib.legend.Legend at 0x7f6a9607b750>"
      ]
     },
     "execution_count": 10,
     "metadata": {},
     "output_type": "execute_result"
    },
    {
     "data": {
      "image/png": "[encoded data removed]",
      "text/plain": [
       "<Figure size 576x360 with 2 Axes>"
      ]
     },
     "metadata": {
      "needs_background": "light"
     },
     "output_type": "display_data"
    }
   ],
   "source": [
    "#plot by groups\n",
    "group = [4,7]\n",
    "x = my_data.iloc[:,0]\n",
    "fig = plt.figure(figsize=(8,5))\n",
    "ax = fig.add_subplot(111)\n",
    "\n",
    "\n",
    "ax.plot(x, my_data.iloc[:,group[0]], '-r',linewidth=2.0,color='r', label = 'gpu energy (joules)')\n",
    "\n",
    "ax2 = ax.twinx()\n",
    "ax2.plot(x, my_data.iloc[:,group[1]], '-r',color='orange',linewidth=2.0,alpha=0.9, label = 'gpu use')\n",
    "ax.grid()\n",
    "ax.set_xlabel('input size')\n",
    "ax.set_ylabel('gpu energy')\n",
    "ax2.set_ylabel('gpu use')\n",
    "ax.legend(loc='best')\n",
    "ax2.legend(loc='upper right')\n"
   ]
  },
  {
   "cell_type": "markdown",
   "metadata": {
    "slideshow": {
     "slide_type": "slide"
    }
   },
   "source": [
    "## Read json file with json module\n",
    "\n",
    "Start with classical imports of json module.\n"
   ]
  },
  {
   "cell_type": "code",
   "execution_count": 2,
   "metadata": {
    "slideshow": {
     "slide_type": "subslide"
    }
   },
   "outputs": [],
   "source": [
    "import json\n",
    "import os\n",
    "os.chdir('../data/TP')"
   ]
  },
  {
   "cell_type": "markdown",
   "metadata": {
    "slideshow": {
     "slide_type": "subslide"
    }
   },
   "source": [
    "Now use load method to convert the JSON String document into the Python dictionary."
   ]
  },
  {
   "cell_type": "code",
   "execution_count": 11,
   "metadata": {
    "slideshow": {
     "slide_type": "subslide"
    }
   },
   "outputs": [
    {
     "name": "stdout",
     "output_type": "stream",
     "text": [
      "<class 'dict'>\n",
      "dict_keys(['0', '1', '2'])\n"
     ]
    }
   ],
   "source": [
    "results = json.load(open('aistats_mcmc.json'))\n",
    "#be carefull with convnets file (too big, see below) or power_metrics.json, NOT a real json\n",
    "print(type(results))\n",
    "print(results.keys())"
   ]
  },
  {
   "cell_type": "code",
   "execution_count": 12,
   "metadata": {
    "slideshow": {
     "slide_type": "subslide"
    }
   },
   "outputs": [
    {
     "name": "stdout",
     "output_type": "stream",
     "text": [
      "{'0': {'accept_ratio': {'layer_0': '0.09375', 'layer_1': '0.15384615384615385'},\n",
      "       'backwards': 0,\n",
      "       'end_eval': '2021-10-05 10:48:29.583958',\n",
      "       'end_training_epoch': '2021-10-05 10:47:50.423673',\n",
      "       'epoch': 0,\n",
      "       'eval_time': 39.16030192375183,\n",
      "       'iterations': 200,\n",
      "       'passforwards': 200,\n",
      "       'sparse test': [{'l0 norm': 0.899987518787384,\n",
      "                        'test loss sparse': 0.000229654598236084,\n",
      "                        'testing accuracy sparse': 0.1261},\n",
      "                       {'l0 norm': 0.7999906539916992,\n",
      "                        'test loss sparse': 0.00022963719367980956,\n",
      "                        'testing accuracy sparse': 0.1184},\n",
      "                       {'l0 norm': 0.6999937891960144,\n",
      "                        'test loss sparse': 0.0002296278476715088,\n",
      "                        'testing accuracy sparse': 0.122},\n",
      "                       {'l0 norm': 0.5999968647956848,\n",
      "                        'test loss sparse': 0.00022963533401489257,\n",
      "                        'testing accuracy sparse': 0.1221},\n",
      "                       {'l0 norm': 0.5,\n",
      "                        'test loss sparse': 0.00022963037490844726,\n",
      "                        'testing accuracy sparse': 0.13},\n",
      "                       {'l0 norm': 0.4000031054019928,\n",
      "                        'test loss sparse': 0.00022963907718658448,\n",
      "                        'testing accuracy sparse': 0.1261},\n",
      "                       {'l0 norm': 0.300006240606308,\n",
      "                        'test loss sparse': 0.0002296133279800415,\n",
      "                        'testing accuracy sparse': 0.1273},\n",
      "                       {'l0 norm': 0.20000934600830078,\n",
      "                        'test loss sparse': 0.00022962586879730226,\n",
      "                        'testing accuracy sparse': 0.1219},\n",
      "                       {'l0 norm': 0.10001246631145477,\n",
      "                        'test loss sparse': 0.00022963387966156007,\n",
      "                        'testing accuracy sparse': 0.1018},\n",
      "                       {'l0 norm': 0.09001121670007706,\n",
      "                        'test loss sparse': 0.0002296480178833008,\n",
      "                        'testing accuracy sparse': 0.1017},\n",
      "                       {'l0 norm': 0.08000996708869934,\n",
      "                        'test loss sparse': 0.00022964849472045898,\n",
      "                        'testing accuracy sparse': 0.1019},\n",
      "                       {'l0 norm': 0.07002430409193039,\n",
      "                        'test loss sparse': 0.00022964327335357667,\n",
      "                        'testing accuracy sparse': 0.1018},\n",
      "                       {'l0 norm': 0.060007479041814804,\n",
      "                        'test loss sparse': 0.00022964222431182861,\n",
      "                        'testing accuracy sparse': 0.1018},\n",
      "                       {'l0 norm': 0.050006233155727386,\n",
      "                        'test loss sparse': 0.0002296363115310669,\n",
      "                        'testing accuracy sparse': 0.102},\n",
      "                       {'l0 norm': 0.04002056270837784,\n",
      "                        'test loss sparse': 0.000229642915725708,\n",
      "                        'testing accuracy sparse': 0.1016},\n",
      "                       {'l0 norm': 0.030003739520907402,\n",
      "                        'test loss sparse': 0.00022965133190155028,\n",
      "                        'testing accuracy sparse': 0.1025},\n",
      "                       {'l0 norm': 0.020018070936203003,\n",
      "                        'test loss sparse': 0.00022965710163116456,\n",
      "                        'testing accuracy sparse': 0.1018},\n",
      "                       {'l0 norm': 0.01001682411879301,\n",
      "                        'test loss sparse': 0.00022971160411834718,\n",
      "                        'testing accuracy sparse': 0.1087}],\n",
      "       'test_accuracy': 0.1268,\n",
      "       'test_loss': 11.482272148132324,\n",
      "       'train_accuracy': 0.12276,\n",
      "       'train_loss': 2.2960903644561768,\n",
      "       'training_time': 275.9528913497925,\n",
      "       'weights_updated': 72600.0},\n",
      " '1': {'accept_ratio': {'layer_0': '0.20869565217391303',\n",
      "                        'layer_1': '0.23529411764705882'},\n",
      "       'backwards': 0,\n",
      "       'end_eval': '2021-10-05 10:53:51.902184',\n",
      "       'end_training_epoch': '2021-10-05 10:53:11.017963',\n",
      "       'epoch': 1,\n",
      "       'eval_time': 40.88422608375549,\n",
      "       'iterations': 400,\n",
      "       'passforwards': 400,\n",
      "       'sparse test': [{'l0 norm': 0.899987518787384,\n",
      "                        'test loss sparse': 0.00022841014862060548,\n",
      "                        'testing accuracy sparse': 0.1233},\n",
      "                       {'l0 norm': 0.7999906539916992,\n",
      "                        'test loss sparse': 0.00022841997146606446,\n",
      "                        'testing accuracy sparse': 0.1212},\n",
      "                       {'l0 norm': 0.6999937891960144,\n",
      "                        'test loss sparse': 0.00022842562198638916,\n",
      "                        'testing accuracy sparse': 0.1232},\n",
      "                       {'l0 norm': 0.5999968647956848,\n",
      "                        'test loss sparse': 0.0002284282684326172,\n",
      "                        'testing accuracy sparse': 0.1229},\n",
      "                       {'l0 norm': 0.5,\n",
      "                        'test loss sparse': 0.00022846009731292724,\n",
      "                        'testing accuracy sparse': 0.1236},\n",
      "                       {'l0 norm': 0.4000031054019928,\n",
      "                        'test loss sparse': 0.00022844407558441162,\n",
      "                        'testing accuracy sparse': 0.126},\n",
      "                       {'l0 norm': 0.300006240606308,\n",
      "                        'test loss sparse': 0.00022845873832702638,\n",
      "                        'testing accuracy sparse': 0.1268},\n",
      "                       {'l0 norm': 0.20000934600830078,\n",
      "                        'test loss sparse': 0.0002285327672958374,\n",
      "                        'testing accuracy sparse': 0.1174},\n",
      "                       {'l0 norm': 0.10001246631145477,\n",
      "                        'test loss sparse': 0.00022852621078491212,\n",
      "                        'testing accuracy sparse': 0.1112},\n",
      "                       {'l0 norm': 0.09001121670007706,\n",
      "                        'test loss sparse': 0.0002285216808319092,\n",
      "                        'testing accuracy sparse': 0.1114},\n",
      "                       {'l0 norm': 0.08000996708869934,\n",
      "                        'test loss sparse': 0.0002285242795944214,\n",
      "                        'testing accuracy sparse': 0.1116},\n",
      "                       {'l0 norm': 0.07002430409193039,\n",
      "                        'test loss sparse': 0.00022850914001464843,\n",
      "                        'testing accuracy sparse': 0.1114},\n",
      "                       {'l0 norm': 0.060007479041814804,\n",
      "                        'test loss sparse': 0.00022851336002349855,\n",
      "                        'testing accuracy sparse': 0.1102},\n",
      "                       {'l0 norm': 0.050006233155727386,\n",
      "                        'test loss sparse': 0.0002285144567489624,\n",
      "                        'testing accuracy sparse': 0.1103},\n",
      "                       {'l0 norm': 0.04002056270837784,\n",
      "                        'test loss sparse': 0.00022853150367736818,\n",
      "                        'testing accuracy sparse': 0.1103},\n",
      "                       {'l0 norm': 0.030003739520907402,\n",
      "                        'test loss sparse': 0.0002285531997680664,\n",
      "                        'testing accuracy sparse': 0.1111},\n",
      "                       {'l0 norm': 0.020018070936203003,\n",
      "                        'test loss sparse': 0.0002285918951034546,\n",
      "                        'testing accuracy sparse': 0.1114},\n",
      "                       {'l0 norm': 0.01001682411879301,\n",
      "                        'test loss sparse': 0.0002286872148513794,\n",
      "                        'testing accuracy sparse': 0.1113}],\n",
      "       'test_accuracy': 0.1232,\n",
      "       'test_loss': 11.420460939407349,\n",
      "       'train_accuracy': 0.12378,\n",
      "       'train_loss': 2.284176826477051,\n",
      "       'training_time': 281.43354082107544,\n",
      "       'weights_updated': 145200.0},\n",
      " '2': {'accept_ratio': {'layer_0': '0.17346938775510204',\n",
      "                        'layer_1': '0.2549019607843137'},\n",
      "       'backwards': 0,\n",
      "       'end_eval': '2021-10-05 10:59:21.107339',\n",
      "       'end_training_epoch': '2021-10-05 10:58:38.712006',\n",
      "       'epoch': 2,\n",
      "       'eval_time': 42.39533805847168,\n",
      "       'iterations': 600,\n",
      "       'passforwards': 600,\n",
      "       'sparse test': [{'l0 norm': 0.899987518787384,\n",
      "                        'test loss sparse': 0.00022767136096954346,\n",
      "                        'testing accuracy sparse': 0.1287},\n",
      "                       {'l0 norm': 0.7999906539916992,\n",
      "                        'test loss sparse': 0.00022767689228057861,\n",
      "                        'testing accuracy sparse': 0.1302},\n",
      "                       {'l0 norm': 0.6999937891960144,\n",
      "                        'test loss sparse': 0.00022771403789520264,\n",
      "                        'testing accuracy sparse': 0.137},\n",
      "                       {'l0 norm': 0.5999968647956848,\n",
      "                        'test loss sparse': 0.0002277179479598999,\n",
      "                        'testing accuracy sparse': 0.1373},\n",
      "                       {'l0 norm': 0.5,\n",
      "                        'test loss sparse': 0.00022775354385375977,\n",
      "                        'testing accuracy sparse': 0.1351},\n",
      "                       {'l0 norm': 0.4000031054019928,\n",
      "                        'test loss sparse': 0.00022775621414184571,\n",
      "                        'testing accuracy sparse': 0.1348},\n",
      "                       {'l0 norm': 0.300006240606308,\n",
      "                        'test loss sparse': 0.00022777841091156005,\n",
      "                        'testing accuracy sparse': 0.1354},\n",
      "                       {'l0 norm': 0.20000934600830078,\n",
      "                        'test loss sparse': 0.00022781152725219727,\n",
      "                        'testing accuracy sparse': 0.135},\n",
      "                       {'l0 norm': 0.10001246631145477,\n",
      "                        'test loss sparse': 0.0002278904676437378,\n",
      "                        'testing accuracy sparse': 0.1104},\n",
      "                       {'l0 norm': 0.09001121670007706,\n",
      "                        'test loss sparse': 0.00022788166999816893,\n",
      "                        'testing accuracy sparse': 0.1094},\n",
      "                       {'l0 norm': 0.08000996708869934,\n",
      "                        'test loss sparse': 0.00022789394855499267,\n",
      "                        'testing accuracy sparse': 0.11},\n",
      "                       {'l0 norm': 0.07002430409193039,\n",
      "                        'test loss sparse': 0.00022786917686462403,\n",
      "                        'testing accuracy sparse': 0.1099},\n",
      "                       {'l0 norm': 0.060007479041814804,\n",
      "                        'test loss sparse': 0.00022788422107696533,\n",
      "                        'testing accuracy sparse': 0.1093},\n",
      "                       {'l0 norm': 0.050006233155727386,\n",
      "                        'test loss sparse': 0.00022792055606842042,\n",
      "                        'testing accuracy sparse': 0.1091},\n",
      "                       {'l0 norm': 0.04002056270837784,\n",
      "                        'test loss sparse': 0.00022792847156524659,\n",
      "                        'testing accuracy sparse': 0.1126},\n",
      "                       {'l0 norm': 0.030003739520907402,\n",
      "                        'test loss sparse': 0.00022795958518981934,\n",
      "                        'testing accuracy sparse': 0.1117},\n",
      "                       {'l0 norm': 0.020018070936203003,\n",
      "                        'test loss sparse': 0.00022802834510803223,\n",
      "                        'testing accuracy sparse': 0.1164},\n",
      "                       {'l0 norm': 0.01001682411879301,\n",
      "                        'test loss sparse': 0.0002281507730484009,\n",
      "                        'testing accuracy sparse': 0.1258}],\n",
      "       'test_accuracy': 0.13,\n",
      "       'test_loss': 11.383270025253296,\n",
      "       'train_accuracy': 0.13106,\n",
      "       'train_loss': 2.276270866394043,\n",
      "       'training_time': 286.80890011787415,\n",
      "       'weights_updated': 217800.0}}\n"
     ]
    }
   ],
   "source": [
    "import pprint\n",
    "\n",
    "pprint.pprint(results)"
   ]
  },
  {
   "cell_type": "markdown",
   "metadata": {
    "slideshow": {
     "slide_type": "subslide"
    }
   },
   "source": [
    "We can now use the python dictionnary to extract data."
   ]
  },
  {
   "cell_type": "code",
   "execution_count": 12,
   "metadata": {
    "slideshow": {
     "slide_type": "subslide"
    }
   },
   "outputs": [],
   "source": [
    "training_time_by_epoch = [results[k]['eval_time'] for k in results.keys()]"
   ]
  },
  {
   "cell_type": "markdown",
   "metadata": {
    "slideshow": {
     "slide_type": "slide"
    }
   },
   "source": [
    "### bigger example two one nice multiple density plots"
   ]
  },
  {
   "cell_type": "code",
   "execution_count": 57,
   "metadata": {
    "slideshow": {
     "slide_type": "subslide"
    }
   },
   "outputs": [
    {
     "name": "stdout",
     "output_type": "stream",
     "text": [
      "<class 'dict'>\n",
      "dict_keys(['input_10', 'input_12', 'input_14', 'input_16', 'input_18', 'input_2', 'input_20', 'input_22', 'input_24', 'input_26', 'input_28', 'input_30', 'input_32', 'input_34', 'input_36', 'input_38', 'input_4', 'input_40', 'input_6', 'input_8'])\n"
     ]
    }
   ],
   "source": [
    "results = json.load(open('convnets_power_metrics.json'))\n",
    "print(type(results))\n",
    "print(results.keys())\n"
   ]
  },
  {
   "cell_type": "code",
   "execution_count": 60,
   "metadata": {
    "slideshow": {
     "slide_type": "subslide"
    }
   },
   "outputs": [
    {
     "name": "stdout",
     "output_type": "stream",
     "text": [
      "656\n"
     ]
    }
   ],
   "source": [
    "import sys\n",
    "print(sys.getsizeof(results))"
   ]
  },
  {
   "cell_type": "code",
   "execution_count": 36,
   "metadata": {
    "slideshow": {
     "slide_type": "subslide"
    }
   },
   "outputs": [
    {
     "name": "stderr",
     "output_type": "stream",
     "text": [
      "/home/loustau/anaconda3/lib/python3.7/site-packages/ipykernel_launcher.py:3: VisibleDeprecationWarning: Creating an ndarray from ragged nested sequences (which is a list-or-tuple of lists-or-tuples-or ndarrays with different lengths or shapes) is deprecated. If you meant to do this, you must specify 'dtype=object' when creating the ndarray\n",
      "  This is separate from the ipykernel package so we can avoid doing imports until\n"
     ]
    },
    {
     "name": "stdout",
     "output_type": "stream",
     "text": [
      "--Study of  latency over run 2\n",
      "Number of obs for layersize 10 = 28148\n",
      "Number of obs for layersize 20 = 20540\n",
      "Number of obs for layersize 40 = 13333\n"
     ]
    },
    {
     "data": {
      "image/png": "[encoded data removed]",
      "text/plain": [
       "<Figure size 1280x800 with 1 Axes>"
      ]
     },
     "metadata": {
      "needs_background": "light"
     },
     "output_type": "display_data"
    },
    {
     "name": "stdout",
     "output_type": "stream",
     "text": [
      "--Study of  latency over run 6\n",
      "Number of obs for layersize 10 = 28148\n",
      "Number of obs for layersize 20 = 20540\n",
      "Number of obs for layersize 40 = 13333\n"
     ]
    },
    {
     "data": {
      "image/png": "[encoded data removed]",
      "text/plain": [
       "<Figure size 1280x800 with 1 Axes>"
      ]
     },
     "metadata": {
      "needs_background": "light"
     },
     "output_type": "display_data"
    }
   ],
   "source": [
    "study = 'latency'\n",
    "latencies = [[results[elt1][elt2][study] for elt2 in results[elt1].keys()] for elt1 in results.keys()]\n",
    "np.array(latencies).shape\n",
    "\n",
    "for K in [2,6]:\n",
    "    plt.figure(figsize=(16,10), dpi= 80)\n",
    "    u=0\n",
    "    print('--Study of ',study,'over run',str(K))\n",
    "    for k in range(20):\n",
    "        layer_str = list(results.keys())[k][6:]\n",
    "        if layer_str in ['10','20','40']:\n",
    "            sns.kdeplot(latencies[k][K], shade=True, color=str(1-int(layer_str)/40), label=layer_str+\" layers\")\n",
    "            print('Number of obs for layersize',layer_str,'=',len(latencies[k][K]))\n",
    "        else:\n",
    "            pass\n",
    "            #sns.kdeplot(latencies[k][K], shade=True, color=str(1-int(layer_str)/40), label=None)\n",
    "        u+=1\n",
    "        \n",
    "    plt.legend()\n",
    "    plt.title('Lantency distributions for Run '+str(K))\n",
    "    plt.show()\n"
   ]
  },
  {
   "cell_type": "markdown",
   "metadata": {
    "slideshow": {
     "slide_type": "slide"
    }
   },
   "source": [
    "## Tweet extraction from json files"
   ]
  },
  {
   "cell_type": "code",
   "execution_count": 6,
   "metadata": {
    "slideshow": {
     "slide_type": "subslide"
    }
   },
   "outputs": [
    {
     "name": "stdout",
     "output_type": "stream",
     "text": [
      "<class 'dict'>\n",
      "dict_keys(['data', 'includes', 'meta'])\n"
     ]
    },
    {
     "data": {
      "text/plain": [
       "100"
      ]
     },
     "execution_count": 6,
     "metadata": {},
     "output_type": "execute_result"
    }
   ],
   "source": [
    "results = json.load(open('0_1308_output_tweet.json'))\n",
    "#be carefull with convnets file (too big, see below) or power_metrics.json, NOT a real json\n",
    "print(type(results))\n",
    "print(results.keys())\n"
   ]
  },
  {
   "cell_type": "code",
   "execution_count": 19,
   "metadata": {
    "slideshow": {
     "slide_type": "subslide"
    }
   },
   "outputs": [
    {
     "name": "stdout",
     "output_type": "stream",
     "text": [
      "248\n"
     ]
    }
   ],
   "source": [
    "import sys\n",
    "print(sys.getsizeof(results))"
   ]
  },
  {
   "cell_type": "code",
   "execution_count": 7,
   "metadata": {
    "slideshow": {
     "slide_type": "subslide"
    }
   },
   "outputs": [],
   "source": [
    "liste_dates = [elt['created_at'] for elt in results['data']]\n",
    "images = [elt['url'] for elt in results['includes']['media'] if 'url' in elt.keys()]"
   ]
  },
  {
   "cell_type": "code",
   "execution_count": 22,
   "metadata": {
    "slideshow": {
     "slide_type": "subslide"
    }
   },
   "outputs": [],
   "source": [
    "#how to link images with tweet's list ?"
   ]
  },
  {
   "cell_type": "markdown",
   "metadata": {
    "slideshow": {
     "slide_type": "slide"
    }
   },
   "source": [
    "## Read ods or excel file\n"
   ]
  },
  {
   "cell_type": "code",
   "execution_count": 27,
   "metadata": {
    "slideshow": {
     "slide_type": "subslide"
    }
   },
   "outputs": [],
   "source": [
    "import os\n",
    "import pandas as pd\n",
    "\n",
    "os.chdir('../data')\n",
    "\n",
    "#convert to excel !\n",
    "my_data = pd.read_excel(\"Suivi 2020.xls\")"
   ]
  },
  {
   "cell_type": "code",
   "execution_count": 28,
   "metadata": {
    "slideshow": {
     "slide_type": "subslide"
    }
   },
   "outputs": [
    {
     "data": {
      "text/html": [
       "<div>\n",
       "<style scoped>\n",
       "    .dataframe tbody tr th:only-of-type {\n",
       "        vertical-align: middle;\n",
       "    }\n",
       "\n",
       "    .dataframe tbody tr th {\n",
       "        vertical-align: top;\n",
       "    }\n",
       "\n",
       "    .dataframe thead th {\n",
       "        text-align: right;\n",
       "    }\n",
       "</style>\n",
       "<table border=\"1\" class=\"dataframe\">\n",
       "  <thead>\n",
       "    <tr style=\"text-align: right;\">\n",
       "      <th></th>\n",
       "      <th>jour</th>\n",
       "      <th>Unnamed: 1</th>\n",
       "      <th>mercredi</th>\n",
       "      <th>jeudi</th>\n",
       "      <th>vendredi</th>\n",
       "      <th>samedi</th>\n",
       "      <th>dimanche</th>\n",
       "      <th>lundi</th>\n",
       "      <th>mardi</th>\n",
       "      <th>mercredi.1</th>\n",
       "      <th>...</th>\n",
       "      <th>mardi.34</th>\n",
       "      <th>mercredi.35</th>\n",
       "      <th>jeudi.35</th>\n",
       "      <th>vendredi.35</th>\n",
       "      <th>samedi.35</th>\n",
       "      <th>dimanche.35</th>\n",
       "      <th>lundi.35</th>\n",
       "      <th>mardi.35</th>\n",
       "      <th>mercredi.36</th>\n",
       "      <th>jeudi.36</th>\n",
       "    </tr>\n",
       "  </thead>\n",
       "  <tbody>\n",
       "    <tr>\n",
       "      <td>count</td>\n",
       "      <td>68</td>\n",
       "      <td>46</td>\n",
       "      <td>4</td>\n",
       "      <td>4.0</td>\n",
       "      <td>10.0</td>\n",
       "      <td>8.0</td>\n",
       "      <td>7</td>\n",
       "      <td>8</td>\n",
       "      <td>7.0</td>\n",
       "      <td>10</td>\n",
       "      <td>...</td>\n",
       "      <td>9.0</td>\n",
       "      <td>15.00</td>\n",
       "      <td>11.0</td>\n",
       "      <td>7.0</td>\n",
       "      <td>6.0</td>\n",
       "      <td>6.0</td>\n",
       "      <td>6</td>\n",
       "      <td>6.0</td>\n",
       "      <td>6</td>\n",
       "      <td>7</td>\n",
       "    </tr>\n",
       "    <tr>\n",
       "      <td>unique</td>\n",
       "      <td>45</td>\n",
       "      <td>46</td>\n",
       "      <td>4</td>\n",
       "      <td>4.0</td>\n",
       "      <td>8.0</td>\n",
       "      <td>8.0</td>\n",
       "      <td>7</td>\n",
       "      <td>8</td>\n",
       "      <td>7.0</td>\n",
       "      <td>9</td>\n",
       "      <td>...</td>\n",
       "      <td>9.0</td>\n",
       "      <td>14.00</td>\n",
       "      <td>11.0</td>\n",
       "      <td>7.0</td>\n",
       "      <td>6.0</td>\n",
       "      <td>6.0</td>\n",
       "      <td>6</td>\n",
       "      <td>6.0</td>\n",
       "      <td>6</td>\n",
       "      <td>7</td>\n",
       "    </tr>\n",
       "    <tr>\n",
       "      <td>top</td>\n",
       "      <td>(POIDS)</td>\n",
       "      <td>Grenoloise /batavia »Eole + Kamicaze »/Batavia...</td>\n",
       "      <td>2020-01-01 00:00:00</td>\n",
       "      <td>14.8</td>\n",
       "      <td>3.8</td>\n",
       "      <td>14.1</td>\n",
       "      <td>5</td>\n",
       "      <td>Humide, brouillard, beau</td>\n",
       "      <td>14.2</td>\n",
       "      <td>1</td>\n",
       "      <td>...</td>\n",
       "      <td>13.9</td>\n",
       "      <td>0.35</td>\n",
       "      <td>28.9</td>\n",
       "      <td>15.1</td>\n",
       "      <td>16.1</td>\n",
       "      <td>15.8</td>\n",
       "      <td>15</td>\n",
       "      <td>13.9</td>\n",
       "      <td>15</td>\n",
       "      <td>254</td>\n",
       "    </tr>\n",
       "    <tr>\n",
       "      <td>freq</td>\n",
       "      <td>13</td>\n",
       "      <td>1</td>\n",
       "      <td>1</td>\n",
       "      <td>1.0</td>\n",
       "      <td>2.0</td>\n",
       "      <td>1.0</td>\n",
       "      <td>1</td>\n",
       "      <td>1</td>\n",
       "      <td>1.0</td>\n",
       "      <td>2</td>\n",
       "      <td>...</td>\n",
       "      <td>1.0</td>\n",
       "      <td>2.00</td>\n",
       "      <td>1.0</td>\n",
       "      <td>1.0</td>\n",
       "      <td>1.0</td>\n",
       "      <td>1.0</td>\n",
       "      <td>1</td>\n",
       "      <td>1.0</td>\n",
       "      <td>1</td>\n",
       "      <td>1</td>\n",
       "    </tr>\n",
       "  </tbody>\n",
       "</table>\n",
       "<p>4 rows × 256 columns</p>\n",
       "</div>"
      ],
      "text/plain": [
       "            jour                                         Unnamed: 1  \\\n",
       "count         68                                                 46   \n",
       "unique        45                                                 46   \n",
       "top      (POIDS)  Grenoloise /batavia »Eole + Kamicaze »/Batavia...   \n",
       "freq          13                                                  1   \n",
       "\n",
       "                   mercredi  jeudi  vendredi  samedi  dimanche  \\\n",
       "count                     4    4.0      10.0     8.0         7   \n",
       "unique                    4    4.0       8.0     8.0         7   \n",
       "top     2020-01-01 00:00:00   14.8       3.8    14.1         5   \n",
       "freq                      1    1.0       2.0     1.0         1   \n",
       "\n",
       "                           lundi  mardi  mercredi.1  ... mardi.34  \\\n",
       "count                          8    7.0          10  ...      9.0   \n",
       "unique                         8    7.0           9  ...      9.0   \n",
       "top     Humide, brouillard, beau   14.2           1  ...     13.9   \n",
       "freq                           1    1.0           2  ...      1.0   \n",
       "\n",
       "        mercredi.35  jeudi.35  vendredi.35  samedi.35 dimanche.35  lundi.35  \\\n",
       "count         15.00      11.0          7.0        6.0         6.0         6   \n",
       "unique        14.00      11.0          7.0        6.0         6.0         6   \n",
       "top            0.35      28.9         15.1       16.1        15.8        15   \n",
       "freq           2.00       1.0          1.0        1.0         1.0         1   \n",
       "\n",
       "       mardi.35  mercredi.36  jeudi.36  \n",
       "count       6.0            6         7  \n",
       "unique      6.0            6         7  \n",
       "top        13.9           15       254  \n",
       "freq        1.0            1         1  \n",
       "\n",
       "[4 rows x 256 columns]"
      ]
     },
     "execution_count": 28,
     "metadata": {},
     "output_type": "execute_result"
    }
   ],
   "source": [
    "my_data.describe()"
   ]
  },
  {
   "cell_type": "code",
   "execution_count": 39,
   "metadata": {
    "slideshow": {
     "slide_type": "subslide"
    }
   },
   "outputs": [
    {
     "data": {
      "text/plain": [
       "['Activité maraîchage',\n",
       " 'Ramassé\\xa0: salade',\n",
       " 'j',\n",
       " 'Ramassé\\xa0: Chou',\n",
       " 'Ramassé\\xa0: salade',\n",
       " '\\n\\nTaillé la verveine citronnelle',\n",
       " 'Taillé vigne',\n",
       " 'Nettoyé coin cabane',\n",
       " 'Récupéré les potées de chrysanthèmes maintenant défleuris et replantés au jardin',\n",
       " 'Retourné morceau de jardin avant la petite pluie  et ramassé quelques salades',\n",
       " 'Nettoyé jardin ',\n",
       " 'ramassé salade',\n",
       " 'Ramassé salade',\n",
       " 'Bêché une partie du jardin',\n",
       " 'Bêché une partie du jardin. Préparé un rang pour roquette',\n",
       " 'Ramassé salade',\n",
       " 'Semé carottes et radis',\n",
       " 'Epandu fumier dans mon jardin',\n",
       " 'Ramassé salade. Semé Oeuillets d’Inde sous un voile',\n",
       " 'Commencé à butter les fèves (beaucoup d’herbe)…',\n",
       " 'Ramassé salade',\n",
       " 'Travaillé fèves',\n",
       " 'Ramassé salade',\n",
       " 'Couverture fraisiers',\n",
       " 'Réfection gouttière garage',\n",
       " 'Les carottes sortent, les oeuillets d’indes aussi',\n",
       " 'Ramassé Chou et salade',\n",
       " 'Rangé patates pour germination',\n",
       " 'Ramassé salades',\n",
       " 'Semé des poireaux sous chassi\\xa0. Enlevé rosier sous la glycine. Motoculteur passé sur les parcelles vides',\n",
       " 'Nettoyé ail et oignons',\n",
       " 'Semé Cosmos',\n",
       " 'Semé Choux cabus EXPRESS , Persil (acheté) et graines aromatiques (G.Hoquet)',\n",
       " \"Ne jardinez pas ce jour-là (lune à l'apogée à 12h34).\",\n",
       " 'Semé roquette cultivée ( et salade «\\xa0«Laitue batavia rouge Grenobloise\\xa0»',\n",
       " 'Semé les tomates, Concombres, Cornichons, Courgettes et planté 30 oeuillets d‘Inde. Ramassé salade',\n",
       " 'Semé oignons jaunes et transplanté en godets quelques oeuillets d’inde (30)',\n",
       " 'Semé 10 aubergines «africaines»',\n",
       " 'Planté fleur (Coréopsis) dans pot du garage',\n",
       " 'Planté pomme de terre (Sirtéma)',\n",
       " 'Planté pomme de terre (Bintje) et semé betteraves et semé pelouse devant la maison',\n",
       " 'Ramassé salades',\n",
       " 'Ramassé radis et fèves (croque-sel)',\n",
       " 'Ramassé salades',\n",
       " 'Semé potimarrons et citrouille, éclairci oeuillets d’inde. Ramassé salade pour JPW et quelques radis (chassi)',\n",
       " 'Semé Basilic Genovese (Sainte Marthe) dans brouette. Semé pelouse sous Lagestremia. ',\n",
       " 'Semé en place radis «\\xa01/2longs écarlates\\xa0». Ramassé fèves (croque-sel)',\n",
       " 'Semé capucines naines «\\xa0Tom Pouce Variée\\xa0» dans 2 jardinières et repiqué quelques oeuillets d’inde (10)',\n",
       " 'Néttoyé Patates, Aulx et Oignons. Ramassé chou, 12 petits pois  et salade',\n",
       " 'Semé salade à couper (graines récupérées) en place et basilic (graines récupérées en 2017) dans deux pots violets à la véranda. Planté quelques campanule dans un pot dehors',\n",
       " 'Nettoyé salades',\n",
       " 'Semé Potimarrons (2 graines dans godets blanc, sous la table à la véranda), Citrouille (2 graines dans godets brun, sous la table à la véranda) Aubergines africaines (8 graines dans grand godet blanc, sous la table à la véranda) et resemé concombres (2 graines par godets ronds gris, sur la table à la véranda)',\n",
       " 'Transplanté\\xa0les plants de tomate les plus costauds: liguria (8), Crimée (4), saint pierre (6), Coeur de bœuf (5), Ananas (4), Cerises (5). Ramassé radis',\n",
       " 'Semé carottes',\n",
       " 'Ramassé radis',\n",
       " 'Semé Zinnia et mélange de fleurs pour papillons et polinisateurs. Les Glaieuls sortent\\xa0. Nettoyé un morceau de jardin (à côté des petits pois). Ramassé roquette',\n",
       " 'Ramassé radis et fèves (croque-sel). Transplanté 4 salades (poussées dans la roquette). Transplanté une tomate cerise',\n",
       " 'Eclairci les carottes, transplanté 2 salades de plus',\n",
       " 'Repiqué tomates\\xa0: 9 crimée, 4 Cerise, 4 Ananas, 11 saint-Pierre (dont trois dans le chassi), 6 Coeur de Boeuf, 6 Liguria. Nettoyé jardin de Seb',\n",
       " 'Plantation concombre au jardin et repiqué 12 oeuillets d’Inde. Ramassé 6 artichauts violets',\n",
       " 'Ramassé Fèves et Oignons',\n",
       " 'Transplanté sedum dans grand pot blanc près de la fontaine et dans le petit pot sur la canfouine. Enlevé petit sapin et replanté au jardin.',\n",
       " 'Semé 20 capucines de plus dans petits pots placés au chassi et 7 dans les mêmes jardinières que précédement. Ramassé Petits pois Oignons et Fèves',\n",
       " 'Ramassé Oignons ',\n",
       " 'Tomates dehors protégées, ainsi que oeuillets d’inde, cornichons, courgettes, concombres. Ramassé Artichauts, Oignons, fèves, salade, fraises et Petits pois',\n",
       " 'Transplanté 10 choux «cabus EXPRESS » et semé quelques fleurs. Travaillé ail\\xa0.',\n",
       " 'Transplanté 8 Liguria, 9 Crimée, 3 Coeur de Boeuf, 1 Ananas',\n",
       " 'Transplanté\\xa0: 2 cornichons et une courgette. Planté salades de JB\\xa0. Ramassé fèves et oignons',\n",
       " 'Planté oignons rouges de roscoff. Ramassé\\xa0: Petits pois, fèves, fraises, roquette',\n",
       " 'Ramassé\\xa0: Oignons, fraises. Planté 19 glaïeuls',\n",
       " 'Semé quelques salades «\\xa0LAITUE pommée ALL THE YEAR ROUND dite passe-partout\\xa0» Ramassé carottes, fraises et Oignons. Traité patates (bouillie Bordelaise) et vigne (bouillie Bordelaise + soufre)',\n",
       " 'Ramassé\\xa0: Oignons, carottes, artichauts, fraises',\n",
       " 'Ramassé carrotes, oignons et petits pois, roquette',\n",
       " 'Semé «\\xa0Chicorée scarole grosse bouclée\\xa0» 2 citrouilles, 2 potimarrons, 2 concombres, et roquette\\nramassé\\xa0: Fraises',\n",
       " 'Ramassé fèves',\n",
       " 'ramassé roquette, fraises',\n",
       " 'Ramassé dernier petits pois, oignons, carottes',\n",
       " 'Tourné terre au petits pois, remplacé tomates cassées',\n",
       " 'Ramassé fraises et dernières fèves ',\n",
       " 'Transplanté quelques salades à couper. Traité Vigne, tomates et fraisiers (erreur)',\n",
       " 'Ramassé roquette quelquqes radis et quelques carottes',\n",
       " 'Planté 20 tomates et un Oeuillet d’Inde par tomate',\n",
       " 'Ramassé radis et artichauts. Planté 10 tomates\\xa0: 6 liguria, 1 Coeur de Boeuf, 2 ananas et un Oeuillet d’Inde par tomate',\n",
       " 'Semé radis et transplanté betteraves de mon semis',\n",
       " 'Ramassé\\xa0: salade, patates, fraises',\n",
       " 'Planté\\xa0: piments, aubergines, poivrons et espelette. Remplacé Courgette',\n",
       " 'Ramassé Cerises',\n",
       " 'L’après midi, planté Concombre, courgette, potimarrons et citrouille. Jai mis au chassi toutes les tomates restantes (Liguria, Ananas, Saint Pierre)',\n",
       " 'Ramassé patates, oignons et fraises. Transplanté chou cabus',\n",
       " 'Ramassé\\xa0: fraises, patates et salade',\n",
       " 'Coupé un peu la vigne qui me gênait, ramassé un peu de roquette nouvelle. Semé 2 rangs de haricots verts. Préparé place des haricots blancs (pour semer le 21 mai)',\n",
       " 'Transplanté Basilic en pleine terre  et salade «\\xa0all the year round\\xa0» dans chassi. Taillé glycine',\n",
       " 'Ramassé framboises (12)',\n",
       " 'Ramassé salade',\n",
       " 'Semé salades «\\xa0Reine de Mai\\xa0» et «\\xa0All the Year round\\xa0». Préparation ligne pour haricots blancs',\n",
       " 'Ramassé salade, framboises\\xa0. Transplanté tournesols. Transplanté toutes tomates en trop (4 Liguria, 3 crimées, 10 Saint Pierre, 3 Coeur de Boeuf, 3 Cerises, 4 Ananas)',\n",
       " 'Planté padrons (6) et piment fort',\n",
       " 'Semé haricots blancs (1 rang de 50 graines). Ramassé salade, artichauts',\n",
       " 'Les haricots verts sortent mais pas tous\\xa0!! (semés il y a 11 jours). Ramassé salade',\n",
       " 'Ramassé\\xa0: framboises et fraises',\n",
       " 'Ramassé salade.\\nPlanté courgettes à J>PG',\n",
       " 'Planté glaieuls (16)',\n",
       " 'Ramassé\\xa0: Framboises, radis',\n",
       " 'Ramassé Framboises. Planté «\\xa0Liseron de Turquie\\xa0»',\n",
       " 'Remplacé 19 tomates (avec plants poussés ici\\xa0; 3 crimées, 2 Coeur de Boeuf, 6 Saint Pierre, 1 Liguria, 4 Ananas, 3 Cerises.Planté aussi une aubergine à la place dune tomate.  Ramassé\\xa0: Salade, radis, 6 petits piments. Les poireaux à sécher (50 environ)',\n",
       " 'Ramassé framboises',\n",
       " 'Ramassé framboises, salade, radis',\n",
       " 'Ramassé\\xa0: Framboises, patates et fraises. Planté poireau (les miens semés en février) et salades «\\xa0All the year round\\xa0» venant du chassi. ',\n",
       " 'Ramassé radis',\n",
       " 'Ramassé Framboises, fraises et salades',\n",
       " 'Semé haricots blancs (refaits). Ramassé\\xa0: Framboises, salade, radis, Oignons de Roscoff ',\n",
       " 'Semé radis',\n",
       " 'Protégé haricots blancs (avec un filet). Elairci carottes',\n",
       " 'Ramassé Framboises, radis et salade',\n",
       " 'Ramassé salade et 1 oignon jaune. Semé quelques capucines. ',\n",
       " 'Transplanté salades «\\xa0all the year round\\xa0» dans le chassi. Ramassé 1 oignon jaune.',\n",
       " 'Ramassé Framboises. Les radis semés le 9 juin (il y a 6 jours) ainsi que les haricots blancs semés le 8 juin (il y a 7 jours) sortent',\n",
       " 'Planté 19 salades depuis le chassi «\\xa0reine de Mai\\xa0» (semées le 17 mai). Butté haricots verts. Enlevé filets aux haricots blancs. Ramassé fraises et levé ail',\n",
       " 'Ramassé salade et tilleul',\n",
       " 'Semé carottes «\\xa0Colmar\\xa0» (graines Bomaux). Ramassé roquette et piments',\n",
       " 'Ramassé oignons, patates, fraises',\n",
       " 'Transplanté piment et aubergines (poussés seuls dans des godets) au milieu des padrons.',\n",
       " 'Remplacé deux tomates rang n°2 la première et la troisième et rangn° 1 la première. Ramassé oignons fraises, piments et une aubergine.',\n",
       " 'Transplanté une ligne de betteraves. Levé éhalottes. ',\n",
       " 'Taillé Courgettes, Potimarrons, Concombre, Citrouille. Ramassé patates, Roquette et un oignon.',\n",
       " 'Ramassé patates.  (suite)',\n",
       " 'Ramassé patates..  (Fin\\xa0: 11kg de grosses, 7kg de moyennes, 6kgde petites et 9kg pour les cochons\\nEnvoyé Email à Volotea',\n",
       " 'Ramassé\\xa0: Poivrons, Piments, radis, Courgette, Betteraves, Padrons',\n",
       " 'Ramassé roquette, radis.',\n",
       " 'Ramassé radis, courgette, salade. Semé roquette.',\n",
       " 'Ramassé radis, courgette, concombre, aubergines, piments',\n",
       " 'Ramassé fraises',\n",
       " 'Ramassé salades radis et aubergines',\n",
       " 'Semé radis et poireaux, planté salades «\\xa0laitues batavia de JB. Ramassé courgette et radis',\n",
       " 'Ramassé piments, poivrons, oignons, salades,  padrons, carottes (toutes)',\n",
       " 'Ramassé\\xa0: Courgettes. ',\n",
       " 'Ramassé Aubergines, oignons jaunes et betterave',\n",
       " 'Semé mâche. Ramassé\\xa0: Piments',\n",
       " 'Ramassé\\xa0: courgettes, et fraises',\n",
       " 'Ramassé courgette',\n",
       " 'Semé haricots verts. Ramassé courgette et piments+Seb',\n",
       " 'Ramassé padrons et Fraises. Ramassé piments et Haricots verts chez Pierre',\n",
       " 'Ramassé courgettes, aubergines',\n",
       " 'Ramassè padrons, er chez Pierre piments, poivron, padrons, concombres et haricots verts.',\n",
       " 'Ramassé\\xa0: courgettes, salades,1 piment fort fraises',\n",
       " 'Ramassé courgettes, aubergines, piments et 3 piments d’Espelette.',\n",
       " 'Les haricots verts (8 jours) et qu’une petite mâche sortent',\n",
       " 'Ramassé salades, aubergines, piments donnés à Mde Marianne, radis',\n",
       " 'Ramassé salades, courgettes\\xa0, piments, poivrons, aubergines, betteraves, radis,  padrons et concombre chez seb',\n",
       " 'Ramassé\\xa0: salades, courgettes, Aubergines',\n",
       " 'Ramassé\\xa0: radis.',\n",
       " 'Semé radis de 18 jours. Ramassé radis',\n",
       " 'Ramassé Betteraves, Aubergines, Courgettes, Tomates, Piments, Salades, Padrons, Concombre',\n",
       " 'Ramassé\\xa0: Tomates, piments, Espelette, fort, Courgettes padrons. Ramassé vervaine, graines roquette stockée (celle semée le 27 Février)',\n",
       " 'Ramassé tomates',\n",
       " 'Ramassé\\xa0: Courgettes, Aubergines, Tomates, Piments',\n",
       " 'Nettoyé terrain des padrons aux carottes. Ramassé\\xa0: Fraises.',\n",
       " 'Ramassé\\xa0: Roquette, raisin',\n",
       " 'Ramassé\\xa0: Courgettes, Haricots verts et une salade',\n",
       " 'Ramassé\\xa0: raisin, aubergines, concombres, piments, tomates, poivron, espelette.',\n",
       " 'Ramassé raisin',\n",
       " 'Ramassé Tomates, Piments, Padrons, Aubergines, Courgettes, Salade.',\n",
       " 'Ramassé Courgettes, Espelette, raisin. Semé laitue à couper',\n",
       " 'Semé laitues «\\xa0Appia\\xa0» sur un rang et chou «\\xa0Cabus\\xa0» dans chassi. Ramassé\\xa0: Padrons, Courgettes',\n",
       " 'Ramassé Raisin, salade. Planté salade batavia «\\xa0Rossia\\xa0» de JB',\n",
       " 'Ramassé Aubergines, Fraises, Salade',\n",
       " 'Ramassé\\xa0: Betteraves, Padrons, Salade',\n",
       " 'Ramassé Tomates, piments, Haricots verts, raisin, Aubergines, salades',\n",
       " 'Ramassé chez Seb\\xa0: Haricots verts, tomates, piments. Raisin chez nous.',\n",
       " 'Ramassé\\xa0: Tomates cerises, Padron, Salade',\n",
       " 'Ramassé\\xa0: Raisin, courgette\\xa0, fraises, poivrons',\n",
       " 'Semé roquette, le soir en rentrant.',\n",
       " 'Ramassé\\xa0: Tomates, Piments, Aubergines, Poivrons, Padrons, Courgettes',\n",
       " 'Ramassé\\xa0: radis, salade, courgettes, tomates.',\n",
       " 'Ramassé\\xa0: Salade, Piments, Aubergines, Padrons, Poivrons, Carottes, Raisin.',\n",
       " 'Ramassé\\xa0: Tomates, piments, Courgettes, radis, salades, betteraves. Planté poireaux',\n",
       " 'Ramassé\\xa0: Raisin, Courgettes, Poivrons, Piments.',\n",
       " 'Ramassé\\xa0: Haricots blancs, Concombres, Padrons, Radis, Salade, Fraises. Semé salades «\\xa0Chicorée frisée Wallonne-Lorca\\xa0»',\n",
       " 'Ramassé piments',\n",
       " 'Planté choux verts «\\xa0Broutes\\xa0»',\n",
       " 'Planté choux pommés',\n",
       " 'Ramassé\\xa0: Haricots blancs, Radis, raisin, Courgette',\n",
       " 'Planté salades de JB',\n",
       " 'Ramassé padrons, haricots blancs, poivrons, piments.',\n",
       " 'Semé radis. Ramassé roquette',\n",
       " 'Ramassé espelette\\xa0. Taille glycine',\n",
       " 'Ramassé\\xa0: carattes, aubergines, courgette, haricots blancs, raisin',\n",
       " 'Ramassé\\xa0: Haricots verts, fraises, radis, raisin']"
      ]
     },
     "execution_count": 39,
     "metadata": {},
     "output_type": "execute_result"
    }
   ],
   "source": [
    "#[elt for elt in my_data.iloc[9,:] if type(elt) == type('e')]"
   ]
  },
  {
   "cell_type": "markdown",
   "metadata": {
    "slideshow": {
     "slide_type": "slide"
    }
   },
   "source": [
    "# Part II : Data extraction from a public API\n",
    "\n",
    "\n",
    "Remember: Data Mining is NOT data engineering ! OK, but in practice, to be a better datascientist, you need to know that many organizations propose open data platforms to collect data with simple python command. \n",
    "\n",
    "Here we propose to do this with COVID data and https://www.data.gouv.fr/fr/ , a platform that contains more than 40,000 datasets.\n",
    "\n",
    "We focus on the \"Données hospitalières relatives à l'épidémie de COVID-19\" where a precise description is presented here : https://www.data.gouv.fr/fr/datasets/donnees-hospitalieres-relatives-a-lepidemie-de-covid-19/."
   ]
  },
  {
   "cell_type": "markdown",
   "metadata": {
    "slideshow": {
     "slide_type": "subslide"
    }
   },
   "source": [
    "We start with classical python module + requests in order to get csv files from a web API."
   ]
  },
  {
   "cell_type": "code",
   "execution_count": 2,
   "metadata": {
    "slideshow": {
     "slide_type": "subslide"
    }
   },
   "outputs": [],
   "source": [
    "import numpy as np\n",
    "import csv\n",
    "\n",
    "import requests"
   ]
  },
  {
   "cell_type": "markdown",
   "metadata": {
    "slideshow": {
     "slide_type": "subslide"
    }
   },
   "source": [
    "Then we give the precise URL containing the dataset in the CSV format."
   ]
  },
  {
   "cell_type": "code",
   "execution_count": 3,
   "metadata": {
    "slideshow": {
     "slide_type": "subslide"
    }
   },
   "outputs": [],
   "source": [
    "CSV_URL = 'https://www.data.gouv.fr/fr/datasets/r/406c6a23-e283-4300-9484-54e78c8ae675'"
   ]
  },
  {
   "cell_type": "markdown",
   "metadata": {
    "slideshow": {
     "slide_type": "subslide"
    }
   },
   "source": [
    "Then we use module requests to get the csv and converts into a python list without any extra file manipulation."
   ]
  },
  {
   "cell_type": "code",
   "execution_count": 4,
   "metadata": {
    "slideshow": {
     "slide_type": "subslide"
    }
   },
   "outputs": [],
   "source": [
    "with requests.Session() as s:\n",
    "    download = s.get(CSV_URL)\n",
    "    decoded_content = download.content.decode('utf-8')\n",
    "    cr = csv.reader(decoded_content.splitlines(), delimiter=';')\n",
    "    my_list = list(cr)"
   ]
  },
  {
   "cell_type": "code",
   "execution_count": 14,
   "metadata": {
    "slideshow": {
     "slide_type": "subslide"
    }
   },
   "outputs": [
    {
     "name": "stdout",
     "output_type": "stream",
     "text": [
      "['jour', '2020-05-13', '2020-05-13', '2020-05-13', '2020-05-13', '2020-05-13', '2020-05-13', '2020-05-13', '2020-05-13', '2020-05-13', '2020-05-13', '2020-05-13', '2020-05-14', '2020-05-14', '2020-05-14', '2020-05-14', '2020-05-14', '2020-05-14', '2020-05-14', '2020-05-14', '2020-05-14', '2020-05-14', '2020-05-14', '2020-05-15', '2020-05-15', '2020-05-15', '2020-05-15', '2020-05-15', '2020-05-15', '2020-05-15', '2020-05-15', '2020-05-15', '2020-05-15', '2020-05-15', '2020-05-16', '2020-05-16', '2020-05-16', '2020-05-16', '2020-05-16', '2020-05-16', '2020-05-16', '2020-05-16', '2020-05-16', '2020-05-16', '2020-05-16', '2020-05-17', '2020-05-17', '2020-05-17', '2020-05-17', '2020-05-17', '2020-05-17', '2020-05-17', '2020-05-17', '2020-05-17', '2020-05-17', '2020-05-17', '2020-05-18', '2020-05-18', '2020-05-18', '2020-05-18', '2020-05-18', '2020-05-18', '2020-05-18', '2020-05-18', '2020-05-18', '2020-05-18', '2020-05-18', '2020-05-19', '2020-05-19', '2020-05-19', '2020-05-19', '2020-05-19', '2020-05-19', '2020-05-19', '2020-05-19', '2020-05-19', '2020-05-19', '2020-05-19', '2020-05-20', '2020-05-20', '2020-05-20', '2020-05-20', '2020-05-20', '2020-05-20', '2020-05-20', '2020-05-20', '2020-05-20', '2020-05-20', '2020-05-20', '2020-05-21', '2020-05-21', '2020-05-21', '2020-05-21', '2020-05-21', '2020-05-21', '2020-05-21', '2020-05-21', '2020-05-21', '2020-05-21', '2020-05-21', '2020-05-22', '2020-05-22', '2020-05-22', '2020-05-22', '2020-05-22', '2020-05-22', '2020-05-22', '2020-05-22', '2020-05-22', '2020-05-22', '2020-05-22', '2020-05-23', '2020-05-23', '2020-05-23', '2020-05-23', '2020-05-23', '2020-05-23', '2020-05-23', '2020-05-23', '2020-05-23', '2020-05-23', '2020-05-23', '2020-05-24', '2020-05-24', '2020-05-24', '2020-05-24', '2020-05-24', '2020-05-24', '2020-05-24', '2020-05-24', '2020-05-24', '2020-05-24', '2020-05-24', '2020-05-25', '2020-05-25', '2020-05-25', '2020-05-25', '2020-05-25', '2020-05-25', '2020-05-25', '2020-05-25', '2020-05-25', '2020-05-25', '2020-05-25', '2020-05-26', '2020-05-26', '2020-05-26', '2020-05-26', '2020-05-26', '2020-05-26', '2020-05-26', '2020-05-26', '2020-05-26', '2020-05-26', '2020-05-26', '2020-05-27', '2020-05-27', '2020-05-27', '2020-05-27', '2020-05-27', '2020-05-27', '2020-05-27', '2020-05-27', '2020-05-27', '2020-05-27', '2020-05-27', '2020-05-28', '2020-05-28', '2020-05-28', '2020-05-28', '2020-05-28', '2020-05-28', '2020-05-28', '2020-05-28', '2020-05-28', '2020-05-28', '2020-05-28', '2020-05-29', '2020-05-29', '2020-05-29', '2020-05-29', '2020-05-29', '2020-05-29', '2020-05-29', '2020-05-29', '2020-05-29', '2020-05-29', '2020-05-29', '2020-05-30', '2020-05-30', '2020-05-30', '2020-05-30', '2020-05-30', '2020-05-30', '2020-05-30', '2020-05-30', '2020-05-30', '2020-05-30', '2020-05-30', '2020-05-31']\n"
     ]
    }
   ],
   "source": [
    "len(my_list)\n",
    "print([my_list[k][1] for k in range(200)])"
   ]
  },
  {
   "cell_type": "markdown",
   "metadata": {
    "slideshow": {
     "slide_type": "slide"
    }
   },
   "source": [
    "## Data Mining: simple time series extraction and plot"
   ]
  },
  {
   "cell_type": "markdown",
   "metadata": {
    "slideshow": {
     "slide_type": "subslide"
    }
   },
   "source": [
    "Choose a 'Département':"
   ]
  },
  {
   "cell_type": "code",
   "execution_count": 6,
   "metadata": {
    "slideshow": {
     "slide_type": "subslide"
    }
   },
   "outputs": [],
   "source": [
    "dep = '64'"
   ]
  },
  {
   "cell_type": "markdown",
   "metadata": {
    "slideshow": {
     "slide_type": "subslide"
    }
   },
   "source": [
    "### Extraction of positive rate and new cases "
   ]
  },
  {
   "cell_type": "code",
   "execution_count": 7,
   "metadata": {
    "slideshow": {
     "slide_type": "subslide"
    }
   },
   "outputs": [
    {
     "name": "stdout",
     "output_type": "stream",
     "text": [
      "[['dep', 'jour', 'P', 'T', 'cl_age90', 'pop'], ['01', '2020-05-13', '0', '16', '09', '83001']]\n",
      "('978', '2021-12-24', 36, 462)\n",
      "591 jours pour le département 64 jusqu'au 2021-12-24\n"
     ]
    }
   ],
   "source": [
    "from matplotlib import rc\n",
    "\n",
    "print(my_list[:2])\n",
    "data_all = [(elt[0],elt[1],int(elt[2]),int(elt[3])) for elt in my_list[1:]]\n",
    "data = []\n",
    "for k,elt in enumerate(data_all):\n",
    "    if k == 0:\n",
    "        previous_date = elt[1]\n",
    "    new_date = elt[1]\n",
    "    if new_date != previous_date:\n",
    "        data.append(last_data)\n",
    "    if k == len(data_all):\n",
    "        data.append(elt)\n",
    "    previous_date = elt[1]\n",
    "    last_data = elt\n",
    "\n",
    "print(last_data)\n",
    "positif = [elt[2] for elt in data if elt[0]==dep]\n",
    "tested = [elt[3] for elt in data if elt[0]==dep]\n",
    "print(len(tested),'jours pour le département',dep,\"jusqu'au\",last_data[1])\n",
    "ratio = [elt[0]/elt[1] for elt in zip(positif,tested) if elt[1]>1]\n",
    "rc('mathtext', default='regular')\n"
   ]
  },
  {
   "cell_type": "markdown",
   "metadata": {
    "slideshow": {
     "slide_type": "subslide"
    }
   },
   "source": [
    "### Plots with two axes"
   ]
  },
  {
   "cell_type": "code",
   "execution_count": 8,
   "metadata": {
    "slideshow": {
     "slide_type": "slide"
    }
   },
   "outputs": [],
   "source": [
    "import matplotlib.dates as md\n",
    "import matplotlib.pyplot as plt\n"
   ]
  },
  {
   "cell_type": "code",
   "execution_count": 9,
   "metadata": {
    "slideshow": {
     "slide_type": "subslide"
    }
   },
   "outputs": [
    {
     "data": {
      "image/png": "[encoded data removed]",
      "text/plain": [
       "<Figure size 576x360 with 2 Axes>"
      ]
     },
     "metadata": {
      "needs_background": "light"
     },
     "output_type": "display_data"
    }
   ],
   "source": [
    "\n",
    "x = range(len(positif))\n",
    "fig = plt.figure(figsize=(8,5))\n",
    "ax = fig.add_subplot(111)\n",
    "ax.plot(x, ratio, '-r',linewidth=2.0, label = 'Taux de Positifs (Département '+dep+')')\n",
    "\n",
    "ax2 = ax.twinx()\n",
    "ax2.plot(x, positif, '--',linewidth=2.0,alpha=0.9, label = 'Nombre de nouveaux cas')\n",
    "ax.grid()\n",
    "ax.set_xlabel(\"Nombre de Jours depuis le 13 mai 2020\")\n",
    "ax.set_ylabel(r\"Taux de Positifs\")\n",
    "ax2.set_ylabel(r\"Nombre de nouveaux cas\")\n",
    "ax.legend()\n",
    "plt.savefig(dep+'.png')\n",
    "plt.show()"
   ]
  },
  {
   "cell_type": "markdown",
   "metadata": {
    "slideshow": {
     "slide_type": "slide"
    }
   },
   "source": [
    "## Same process with more critical a dataset\n",
    "\n",
    "We could do the same thing with more critical hospitalization data: it drives the government decisions. "
   ]
  },
  {
   "cell_type": "markdown",
   "metadata": {
    "slideshow": {
     "slide_type": "subslide"
    }
   },
   "source": [
    "CSV_URL = 'https://www.data.gouv.fr/fr/datasets/r/63352e38-d353-4b54-bfd1-f1b3ee1cabd7'"
   ]
  },
  {
   "cell_type": "code",
   "execution_count": 17,
   "metadata": {
    "slideshow": {
     "slide_type": "subslide"
    }
   },
   "outputs": [
    {
     "name": "stdout",
     "output_type": "stream",
     "text": [
      "[['dep', 'sexe', 'jour', 'hosp', 'rea', 'HospConv', 'SSR_USLD', 'autres', 'rad', 'dc'], ['01', '0', '2020-03-18', '2', '0', 'NA', 'NA', 'NA', '1', '0'], ['01', '1', '2020-03-18', '1', '0', 'NA', 'NA', 'NA', '1', '0'], ['01', '2', '2020-03-18', '1', '0', 'NA', 'NA', 'NA', '0', '0'], ['02', '0', '2020-03-18', '41', '10', 'NA', 'NA', 'NA', '18', '11']]\n",
      "['976', '1', '2022-01-09', '31', '6', '20', '3', '2', '623', '84']\n",
      "663 jours pour le département 64 depuis le 2020-03-18 jusq'au 2022-01-09\n",
      "27 réanimations aujourd'hui contre 27 hier\n",
      "201 hospitalisations aujourd'hui contre 211 hier\n"
     ]
    },
    {
     "data": {
      "image/png": "[encoded data removed]",
      "text/plain": [
       "<Figure size 576x360 with 2 Axes>"
      ]
     },
     "metadata": {
      "needs_background": "light"
     },
     "output_type": "display_data"
    }
   ],
   "source": [
    "\n",
    "with requests.Session() as s:\n",
    "    download = s.get(CSV_URL)\n",
    "    decoded_content = download.content.decode('utf-8')\n",
    "    cr = csv.reader(decoded_content.splitlines(), delimiter=';')\n",
    "    my_list = list(cr)\n",
    "print(my_list[:5])\n",
    "print(my_list[-4])\n",
    "data = [(elt[0],elt[2],int(elt[3]),int(elt[4])) for elt in my_list[1:] if elt[1] == '0']\n",
    "lastdate = data[:-1][:-1][-1][1]\n",
    "hosp = [elt[2] for elt in data if elt[0]==dep]\n",
    "rea = [elt[3] for elt in data if elt[0]==dep]\n",
    "if len(rea) == len(hosp):\n",
    "    print(len(hosp),'jours pour le département',dep,'depuis le',data[0][1],\"jusq'au\",lastdate)\n",
    "\n",
    "x = range(len(hosp))\n",
    "fig = plt.figure(figsize=(8,5))\n",
    "ax = fig.add_subplot(111)\n",
    "start = 0\n",
    "ax.plot(x[start:], rea[start:], '-r',linewidth=2.0, label = 'Réanimation Département '+dep)\n",
    "ax2 = ax.twinx()\n",
    "ax2.plot(x[start:], hosp[start:], '--',linewidth=2.0,alpha=0.9, label = 'Hospitalisation Département '+dep)\n",
    "ax.grid()\n",
    "ax.set_xlabel(\"Nombre de Jours depuis le 18 mars 2020\")\n",
    "ax.set_ylabel(r\"Nombre de réanimation\")\n",
    "ax2.set_ylabel(r\"Nombre d'hospitalisation\")\n",
    "ax.legend(loc=2)\n",
    "ax2.legend(loc=0)\n",
    "\n",
    "plt.savefig(dep+'.png')\n",
    "print(rea[-1],\"réanimations aujourd'hui contre\",rea[-2],\"hier\")\n",
    "print(hosp[-1],\"hospitalisations aujourd'hui contre\",hosp[-2],\"hier\")"
   ]
  },
  {
   "cell_type": "markdown",
   "metadata": {
    "slideshow": {
     "slide_type": "slide"
    }
   },
   "source": [
    "# Collect data from a database (just showing)"
   ]
  },
  {
   "cell_type": "markdown",
   "metadata": {
    "slideshow": {
     "slide_type": "subslide"
    }
   },
   "source": [
    " In this example, I will show you how to extract data from a database... as a data engineer !\n",
    "This dataset is one example of the next IAPAU datachallenge, in January.\n",
    "\n",
    "Inscriptions obligatoires ici : https://live.iapau.fr/"
   ]
  },
  {
   "cell_type": "code",
   "execution_count": 1,
   "metadata": {
    "slideshow": {
     "slide_type": "subslide"
    }
   },
   "outputs": [],
   "source": [
    "import pandas as pd\n",
    "import sqlalchemy as sql "
   ]
  },
  {
   "cell_type": "code",
   "execution_count": 2,
   "metadata": {
    "slideshow": {
     "slide_type": "subslide"
    }
   },
   "outputs": [],
   "source": [
    "engine = sql.create_engine(\"postgresql://xxx@pgdb-plastico-dev:xxx@xxx.azure.com:xxx/plastico-dev\")\n",
    "con = engine.connect()\n"
   ]
  },
  {
   "cell_type": "code",
   "execution_count": 7,
   "metadata": {
    "slideshow": {
     "slide_type": "subslide"
    }
   },
   "outputs": [],
   "source": [
    "from sqlalchemy import inspect, select\n",
    "\n",
    "inspector = inspect(engine)\n",
    "schemas = inspector.get_schema_names()"
   ]
  },
  {
   "cell_type": "code",
   "execution_count": 10,
   "metadata": {
    "slideshow": {
     "slide_type": "subslide"
    }
   },
   "outputs": [
    {
     "data": {
      "text/plain": [
       "['bi',\n",
       " 'bi_temp',\n",
       " 'campaign',\n",
       " 'cms',\n",
       " 'information_schema',\n",
       " 'label',\n",
       " 'logs',\n",
       " 'public',\n",
       " 'raw_data',\n",
       " 'referential',\n",
       " 'referential_dev']"
      ]
     },
     "execution_count": 10,
     "metadata": {},
     "output_type": "execute_result"
    }
   ],
   "source": [
    "schemas"
   ]
  },
  {
   "cell_type": "code",
   "execution_count": 11,
   "metadata": {
    "slideshow": {
     "slide_type": "subslide"
    }
   },
   "outputs": [
    {
     "name": "stdout",
     "output_type": "stream",
     "text": [
      "--extract table names from campaign\n",
      "trash_type\n",
      "Column: {'name': 'id', 'type': INTEGER(), 'nullable': False, 'default': \"nextval('campaign.trash_type_id_seq'::regclass)\", 'autoincrement': True, 'comment': None}\n",
      "Column: {'name': 'name', 'type': TEXT(), 'nullable': True, 'default': None, 'autoincrement': False, 'comment': None}\n",
      "campaign\n",
      "media\n",
      "model\n",
      "trajectory_point\n",
      "trash\n",
      "user\n"
     ]
    }
   ],
   "source": [
    "for schema in schemas:\n",
    "    if schema == 'campaign':\n",
    "        print('--extract table names from',schema)\n",
    "        for table_name in inspector.get_table_names(schema=schema):\n",
    "            print(table_name)\n",
    "            if table_name == 'trash_type':\n",
    "                for column in inspector.get_columns(table_name, schema=schema):\n",
    "                    print(\"Column: %s\" % column)\n",
    "    else:\n",
    "        pass"
   ]
  },
  {
   "cell_type": "markdown",
   "metadata": {
    "slideshow": {
     "slide_type": "slide"
    }
   },
   "source": [
    "# Projets\n",
    "\n",
    "Ces projets consistent à l'extraction de connaissances de données publiques ou industrielles, sur le sujet de l'environnement (rechauffement climatique, agriculture, gestion de crise environnementale, consommation des algorithmes) et de la crise sanitaire. Deux projets concernent le NLP appliquée à des projets d'éducation (textes philosophiques ou base de connaissance sur le problème de réchauffement climatique).\n",
    "\n",
    " 🔥🍆🌱🐝 😷 🎓\n",
    "\n"
   ]
  },
  {
   "cell_type": "markdown",
   "metadata": {
    "slideshow": {
     "slide_type": "subslide"
    }
   },
   "source": [
    "Chaque projet sera effectué par groupe de 3 ou 4 étudiants.\n",
    "\n",
    "L'évaluation portera sur une présentation orales des travaux, un rapport commun et la production d'un graphique par étudiant. \n",
    "\n",
    "Cette note participera à 50% de la note finale du module Data Mining.\n",
    "\n"
   ]
  },
  {
   "cell_type": "markdown",
   "metadata": {
    "slideshow": {
     "slide_type": "slide"
    }
   },
   "source": [
    "🔥\n",
    "        \n",
    "Global Warming & NOAA dataset\n",
    "\n",
    "- Collect data from the public API NOAA (notebook attached to this project)\n",
    "- Highlight with data and statistics the correlation between global warming and human activities (such as GES emmission).\n",
    "- Study the global warming as a function of the location.\n",
    "- Study the effect of the different Agreements on climat changes (COP1 to COP25) on the global emission. "
   ]
  },
  {
   "cell_type": "markdown",
   "metadata": {
    "slideshow": {
     "slide_type": "slide"
    }
   },
   "source": [
    " 🍆\n",
    " \n",
    "Maraîchage\n",
    "\n",
    "- Extraire les données et étudier la possible corrélation de la météo avec les rendements.\n",
    "- Dresser un panorama des différentes caractéristiques des itinéraires techniques des cultures, du semis à la récolte.\n",
    "- Comparer ces rendements au techniques d'agro-écologie sur sol vivant grâce aux documents présents dans les documents du projet, et grâce à vos recherches personnelles et potentielles données complémentaires."
   ]
  },
  {
   "cell_type": "markdown",
   "metadata": {
    "slideshow": {
     "slide_type": "slide"
    }
   },
   "source": [
    " 🐝\n",
    " \n",
    "Mellisphera*\n",
    "\n",
    "\n",
    "- Collecter les différentes séries temporelles et les périodes d'essaimage\n",
    "- Recaler les séries temporelles avec l'industriel\n",
    "- Découper les séries temporelles en données journalières et comparer différentes techniques d'extraction de feature pour représenter ces séries temporelles\n",
    "- Réaliser un clustering de ces séries temporelles journalières et expliquer les résultats obtenus par cluster grâce aux données des séries temporelles et aux labellisation d'essaimage\n",
    "- Créer un classifieur interprétable capable de prédire l'arrivée d'un essaimage"
   ]
  },
  {
   "cell_type": "markdown",
   "metadata": {
    "slideshow": {
     "slide_type": "slide"
    }
   },
   "source": [
    "🔥\n",
    "\n",
    "Altanoveo*\n",
    "\n",
    "- Collecter les tweets de greece, kabylie et wildfire\n",
    "- Faire 10 requêtes twitter pour extraire des tweets sans feu\n",
    "- En lien avec l'industriel, construire un classifieur interprétable grâce à des arbres de décisions\n"
   ]
  },
  {
   "cell_type": "markdown",
   "metadata": {},
   "source": [
    "🔥\n",
    "\n",
    "Consommation des algorithmes\n",
    "- Extraire les fichiers de mesures physiques des wattmètres ainsi que les fichiers issus des expériences du logiciel AIPowerMeter\n",
    "- Illustrer l'écart entre mesures physiques à l'aide des Wattmètres et les mesures logicielles à l'aide de AIPowerMeter\n",
    "- Peut-on expliquer les résultats du wattmètre avec les données de AIPowerMeter ?\n"
   ]
  },
  {
   "cell_type": "markdown",
   "metadata": {
    "slideshow": {
     "slide_type": "slide"
    }
   },
   "source": [
    "😷\n",
    "\n",
    "Une crise sanitaire \n",
    "\n",
    "- Extraire les données grâce aux TPs réalisés en cours.\n",
    "- Proposer une analyse de l'évolution des principaux indicateurs (taux de positif, hospitalisation, réanimation, etc)\n",
    "- Etudier l'évolution de ces indicateurs par âge et sexe.\n",
    "- Prévoir l'évolution de la 5ème vague grâce à des techniques de Forecasting.\n",
    "- Utiliser les arbres de décisions lorsque cela est possible.\n"
   ]
  },
  {
   "cell_type": "markdown",
   "metadata": {
    "slideshow": {
     "slide_type": "slide"
    }
   },
   "source": [
    "🎓\n",
    "\n",
    "Philosophie et Natural Langage Processing\n",
    "\n",
    "- Charger les données de citations ainsi que les cours de Gilles Deleuze.\n",
    "- Construire un ensemble de phrases et réaliser une phase de preprocessing pour transformer ces phrases en vecteurs. Favoriser des variables interprétables.\n",
    "- Utiliser les arbres de décisions capable de classer une phrase selon le thème (attention à bien gérer le multilabelling).\n",
    "- Utiliser ces arbres pour construire un moteur de recherche sur les cours de Gilles Deleuze, qui étant donné un thème, retourne des phrases prononcées par Gilles Deleuze et le lien vers le cours associé.\n"
   ]
  },
  {
   "cell_type": "markdown",
   "metadata": {
    "slideshow": {
     "slide_type": "slide"
    }
   },
   "source": [
    "🎓\n",
    "\n",
    "Environnement et Natural Langage Processing\n",
    "\n",
    "- Construire une interface web django pour réaliser le projet (code source disponible)\n",
    "- Collecter les données issues de plusieurs sources annotées (fresque du climat, ouvrages de sensibilisation, bd scientifique)\n",
    "- Réaliser un moteur de recherche par mot clé ou à base de NLP \n"
   ]
  },
  {
   "cell_type": "code",
   "execution_count": null,
   "metadata": {},
   "outputs": [],
   "source": []
  }
 ],
 "metadata": {
  "celltoolbar": "Diaporama",
  "kernelspec": {
   "display_name": "Python 3",
   "language": "python",
   "name": "python3"
  },
  "language_info": {
   "codemirror_mode": {
    "name": "ipython",
    "version": 3
   },
   "file_extension": ".py",
   "mimetype": "text/x-python",
   "name": "python",
   "nbconvert_exporter": "python",
   "pygments_lexer": "ipython3",
   "version": "3.7.4"
  }
 },
 "nbformat": 4,
 "nbformat_minor": 2
}
